{
 "cells": [
  {
   "cell_type": "code",
   "execution_count": 13,
   "id": "33e8b037-66e6-46af-80db-68e98cfc4f63",
   "metadata": {},
   "outputs": [
    {
     "name": "stdin",
     "output_type": "stream",
     "text": [
      "Molecular: Neutral Red\n",
      "molecular weight(g/mol): 288.78\n",
      "milliMole(mmol/L): 30\n",
      "How many mL wanna prepare: 4\n",
      "Actual volume used in the system: 4.5\n",
      "Lowest Capacity(%): 37.5\n",
      "Highest Capacity(%): 62.5\n",
      "MilliAmper(mA): 30\n"
     ]
    },
    {
     "name": "stdout",
     "output_type": "stream",
     "text": [
      "----------------------------------------------------\n",
      "Prepare 0.0347 in 4.0 mL\n",
      "----------------------------------------------------\n",
      "Seconds for 37.5 operation: 325.64 seconds\n",
      "Seconds for 62.5 operation: 542.73 seconds\n",
      "----------------------------------------------------\n",
      "Experiment Description:\n",
      "Molecular: Neutral Red\n",
      "Molecular weight(g/mol): 288.78\n",
      "Concentration(mM/L): 30.0\n",
      "Volume(mL): 4.5\n",
      "Capacity(%): 37.5\n",
      "Current(mA): 30.0\n",
      "Operation time(s): 325.64\n",
      "----------------------------------------------------\n",
      "Experiment Description:\n",
      "Molecular: Neutral Red\n",
      "Molecular weight(g/mol): 288.78\n",
      "Concentration(mM/L): 30.0\n",
      "Volume(mL): 4.5\n",
      "Capacity(%): 62.5\n",
      "Current(mA): 30.0\n",
      "Operation time(s): 542.73\n",
      "----------------------------------------------------\n",
      "----------------------------------------------------\n"
     ]
    },
    {
     "name": "stdin",
     "output_type": "stream",
     "text": [
      "Current(mA) input to operate repeating CP: 2\n",
      "The percentage of reduction(%): 90\n",
      "Time(s): 0.5\n"
     ]
    },
    {
     "name": "stdout",
     "output_type": "stream",
     "text": [
      "Time setting for repeating CP: 7236.37\n"
     ]
    }
   ],
   "source": [
    "def calculate_time(cp, mA, F, actual_v, v, conc):\n",
    "    return ((conc * v * 2 * 10 ** -6) * (cp / 100) * F) / (mA * 10 ** -3) * (actual_v / v)\n",
    "\n",
    "def print_experiment_description(Molecular_name, Molecular_weight, conc, actual_v, cp, mA, time):\n",
    "    print(\"Experiment Description:\")\n",
    "    print(\"Molecular:\", Molecular_name)\n",
    "    print(\"Molecular weight(g/mol):\", Molecular_weight)\n",
    "    print(\"Concentration(mM/L):\", conc)\n",
    "    print(\"Volume(mL):\", actual_v)\n",
    "    print(\"Capacity(%):\", cp)\n",
    "    print(\"Current(mA):\", mA)\n",
    "    print(\"Operation time(s): {:.2f}\".format(time))\n",
    "    print(\"----------------------------------------------------\")\n",
    "\n",
    "Molecular_name = input(\"Molecular:\")\n",
    "Molecular_weight = float(input(\"molecular weight(g/mol):\"))\n",
    "conc = float(input(\"milliMole(mmol/L):\"))\n",
    "v = float(input(\"How many mL wanna prepare:\"))\n",
    "actual_v = float(input(\"Actual volume used in the system:\"))\n",
    "g_in_mL = (((Molecular_weight * conc) * 10 ** -3) / 1000) * v\n",
    "\n",
    "# Capacity range\n",
    "cp1 = float(input(\"Lowest Capacity(%):\"))\n",
    "cp2 = float(input(\"Highest Capacity(%):\"))\n",
    "mA = float(input(\"MilliAmper(mA):\"))\n",
    "F = 96485  # (C/mol)\n",
    "second1 = calculate_time(cp1, mA, F, actual_v, v, conc)\n",
    "second2 = calculate_time(cp2, mA, F, actual_v, v, conc)\n",
    "\n",
    "print(\"----------------------------------------------------\")\n",
    "print(\"Prepare {:.4f} in {} mL\".format(g_in_mL, v))\n",
    "print(\"----------------------------------------------------\")\n",
    "print(\"Seconds for {} operation: {:.2f} seconds\".format(cp1, second1))\n",
    "print(\"Seconds for {} operation: {:.2f} seconds\".format(cp2, second2))\n",
    "print(\"----------------------------------------------------\")\n",
    "print_experiment_description(Molecular_name, Molecular_weight, conc, actual_v, cp1, mA, second1)\n",
    "print_experiment_description(Molecular_name, Molecular_weight, conc, actual_v, cp2, mA, second2)\n",
    "print(\"----------------------------------------------------\")\n",
    "\n",
    "# Calculation of time for repeating CP, aka carbon capture process\n",
    "rep_mA_input = float(input(\"Current(mA) input to operate repeating CP:\"))\n",
    "red_percent = float(input(\"The percentage of reduction(%):\"))\n",
    "rep_conver = red_percent / 100\n",
    "input_time = float(input(\"Time(s):\"))\n",
    "op_time = ((mA / (rep_mA_input * rep_conver)) * (second2 - second1)) / input_time\n",
    "print(\"Time setting for repeating CP: {:.2f}\".format(op_time))\n"
   ]
  },
  {
   "cell_type": "code",
   "execution_count": null,
   "id": "e8ba5fc1-ee1a-4488-8585-5651fd3d8e58",
   "metadata": {},
   "outputs": [],
   "source": []
  }
 ],
 "metadata": {
  "kernelspec": {
   "display_name": "Python 3 (ipykernel)",
   "language": "python",
   "name": "python3"
  },
  "language_info": {
   "codemirror_mode": {
    "name": "ipython",
    "version": 3
   },
   "file_extension": ".py",
   "mimetype": "text/x-python",
   "name": "python",
   "nbconvert_exporter": "python",
   "pygments_lexer": "ipython3",
   "version": "3.11.7"
  }
 },
 "nbformat": 4,
 "nbformat_minor": 5
}
