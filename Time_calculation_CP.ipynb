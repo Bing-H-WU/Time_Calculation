{
 "cells": [
  {
   "cell_type": "code",
   "id": "33e8b037-66e6-46af-80db-68e98cfc4f63",
   "metadata": {
    "ExecuteTime": {
     "end_time": "2024-05-06T14:48:11.658419Z",
     "start_time": "2024-05-06T14:48:07.271673Z"
    }
   },
   "source": [
    "def calculate_time(cp, mA, F, actual_v, v, conc):\n",
    "    return ((conc * v * 2 * 10 ** -6) * (cp / 100) * F) / (mA * 10 ** -3) * (actual_v / v)\n",
    "\n",
    "def print_experiment_description(Molecular_name, Molecular_weight, conc, actual_v, cp, mA, time):\n",
    "    print(\"Experiment Description:\")\n",
    "    print(\"Molecular:\", Molecular_name)\n",
    "    print(\"Molecular weight(g/mol):\", Molecular_weight)\n",
    "    print(\"Concentration(mM/L):\", conc)\n",
    "    print(\"Volume(mL):\", actual_v)\n",
    "    print(\"Capacity(%):\", cp)\n",
    "    print(\"Current(mA):\", mA)\n",
    "    print(\"Operation time(s): {:.2f}\".format(time))\n",
    "    print(\"----------------------------------------------------\")\n",
    "\n",
    "Molecular_name = input(\"Molecular:\")\n",
    "Molecular_weight = float(input(\"molecular weight(g/mol):\"))\n",
    "conc = float(input(\"milliMole(mmol/L):\"))\n",
    "v = float(input(\"How many mL wanna prepare:\"))\n",
    "actual_v = float(input(\"Actual volume used in the system:\"))\n",
    "g_in_mL = (((Molecular_weight * conc) * 10 ** -3) / 1000) * v\n",
    "\n",
    "# Capacity range\n",
    "cp1 = float(input(\"Lowest Capacity(%):\"))\n",
    "cp2 = float(input(\"Highest Capacity(%):\"))\n",
    "mA = float(input(\"MilliAmper(mA):\"))\n",
    "F = 96485  # (C/mol)\n",
    "second1 = calculate_time(cp1, mA, F, actual_v, v, conc)\n",
    "second2 = calculate_time(cp2, mA, F, actual_v, v, conc)\n",
    "\n",
    "print(\"----------------------------------------------------\")\n",
    "print(\"Prepare {:.4f} in {} mL\".format(g_in_mL, v))\n",
    "print(\"----------------------------------------------------\")\n",
    "print(\"Seconds for {} operation: {:.2f} seconds\".format(cp1, second1))\n",
    "print(\"Seconds for {} operation: {:.2f} seconds\".format(cp2, second2))\n",
    "print(\"----------------------------------------------------\")\n",
    "print_experiment_description(Molecular_name, Molecular_weight, conc, actual_v, cp1, mA, second1)\n",
    "print_experiment_description(Molecular_name, Molecular_weight, conc, actual_v, cp2, mA, second2)\n",
    "print(\"----------------------------------------------------\")\n",
    "\n",
    "# Calculation of time for repeating CP, aka carbon capture process\n",
    "rep_mA_input = float(input(\"Current(mA) input to operate repeating CP:\"))\n",
    "red_percent = float(input(\"The percentage of reduction(%):\"))\n",
    "rep_conver = red_percent / 100\n",
    "input_time = float(input(\"Time(s):\"))\n",
    "op_time = ((mA / (rep_mA_input * rep_conver)) * (second2 - second1)) / input_time\n",
    "print(\"Time setting for repeating CP: {:.2f}\".format(op_time))\n"
   ],
   "outputs": [
    {
     "ename": "ValueError",
     "evalue": "could not convert string to float: ''",
     "output_type": "error",
     "traceback": [
      "\u001B[1;31m---------------------------------------------------------------------------\u001B[0m",
      "\u001B[1;31mValueError\u001B[0m                                Traceback (most recent call last)",
      "Cell \u001B[1;32mIn[1], line 16\u001B[0m\n\u001B[0;32m     13\u001B[0m     \u001B[38;5;28mprint\u001B[39m(\u001B[38;5;124m\"\u001B[39m\u001B[38;5;124m----------------------------------------------------\u001B[39m\u001B[38;5;124m\"\u001B[39m)\n\u001B[0;32m     15\u001B[0m Molecular_name \u001B[38;5;241m=\u001B[39m \u001B[38;5;28minput\u001B[39m(\u001B[38;5;124m\"\u001B[39m\u001B[38;5;124mMolecular:\u001B[39m\u001B[38;5;124m\"\u001B[39m)\n\u001B[1;32m---> 16\u001B[0m Molecular_weight \u001B[38;5;241m=\u001B[39m \u001B[38;5;28mfloat\u001B[39m(\u001B[38;5;28minput\u001B[39m(\u001B[38;5;124m\"\u001B[39m\u001B[38;5;124mmolecular weight(g/mol):\u001B[39m\u001B[38;5;124m\"\u001B[39m))\n\u001B[0;32m     17\u001B[0m conc \u001B[38;5;241m=\u001B[39m \u001B[38;5;28mfloat\u001B[39m(\u001B[38;5;28minput\u001B[39m(\u001B[38;5;124m\"\u001B[39m\u001B[38;5;124mmilliMole(mmol/L):\u001B[39m\u001B[38;5;124m\"\u001B[39m))\n\u001B[0;32m     18\u001B[0m v \u001B[38;5;241m=\u001B[39m \u001B[38;5;28mfloat\u001B[39m(\u001B[38;5;28minput\u001B[39m(\u001B[38;5;124m\"\u001B[39m\u001B[38;5;124mHow many mL wanna prepare:\u001B[39m\u001B[38;5;124m\"\u001B[39m))\n",
      "\u001B[1;31mValueError\u001B[0m: could not convert string to float: ''"
     ]
    }
   ],
   "execution_count": 1
  },
  {
   "cell_type": "code",
   "execution_count": null,
   "id": "e8ba5fc1-ee1a-4488-8585-5651fd3d8e58",
   "metadata": {},
   "outputs": [],
   "source": []
  }
 ],
 "metadata": {
  "kernelspec": {
   "display_name": "Python 3 (ipykernel)",
   "language": "python",
   "name": "python3"
  },
  "language_info": {
   "codemirror_mode": {
    "name": "ipython",
    "version": 3
   },
   "file_extension": ".py",
   "mimetype": "text/x-python",
   "name": "python",
   "nbconvert_exporter": "python",
   "pygments_lexer": "ipython3",
   "version": "3.11.7"
  }
 },
 "nbformat": 4,
 "nbformat_minor": 5
}
